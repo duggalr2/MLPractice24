{
 "cells": [
  {
   "cell_type": "code",
   "execution_count": 1,
   "metadata": {
    "collapsed": false
   },
   "outputs": [],
   "source": [
    "import pandas as pd \n",
    "from sklearn import linear_model\n",
    "from sklearn.model_selection import train_test_split\n",
    "from sklearn import metrics"
   ]
  },
  {
   "cell_type": "code",
   "execution_count": 5,
   "metadata": {
    "collapsed": false
   },
   "outputs": [
    {
     "name": "stdout",
     "output_type": "stream",
     "text": [
      "[  5.3  14.9  20.9  14.5  40.7]\n",
      "3      5.3\n",
      "16    14.9\n",
      "6     20.9\n",
      "10    14.5\n",
      "2     40.7\n",
      "Name: murders, dtype: float64\n",
      "1.0\n"
     ]
    }
   ],
   "source": [
    "filename = 'murder_rates.txt'\n",
    "murder_df = pd.read_csv(filename, delim_whitespace=True)\n",
    "X = murder_df.loc[:, murder_df.columns != 'murders']\n",
    "X = murder_df.loc[:, murder_df.columns != 'index']\n",
    "y = murder_df['murders'] \n",
    "X_train, X_test, y_train, y_test = train_test_split(X, y, random_state=1)\n",
    "lr = linear_model.LinearRegression()\n",
    "lr.fit(X_train, y_train)\n",
    "y_pred_class = lr.predict(X_test)\n",
    "# print(y_pred_class)\n",
    "# print(y_test)\n",
    "print(lr.score(X, y))"
   ]
  },
  {
   "cell_type": "code",
   "execution_count": null,
   "metadata": {
    "collapsed": true
   },
   "outputs": [],
   "source": []
  }
 ],
 "metadata": {
  "anaconda-cloud": {},
  "kernelspec": {
   "display_name": "Python [default]",
   "language": "python",
   "name": "python3"
  },
  "language_info": {
   "codemirror_mode": {
    "name": "ipython",
    "version": 3
   },
   "file_extension": ".py",
   "mimetype": "text/x-python",
   "name": "python",
   "nbconvert_exporter": "python",
   "pygments_lexer": "ipython3",
   "version": "3.5.2"
  }
 },
 "nbformat": 4,
 "nbformat_minor": 2
}

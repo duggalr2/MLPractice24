{
 "cells": [
  {
   "cell_type": "code",
   "execution_count": 1,
   "metadata": {
    "collapsed": false
   },
   "outputs": [],
   "source": [
    "import pandas as pd \n",
    "from sklearn.feature_extraction.text import CountVectorizer\n",
    "from sklearn.model_selection import train_test_split\n",
    "from sklearn.naive_bayes import MultinomialNB\n",
    "from sklearn import metrics\n",
    "import scattertext as st\n",
    "from pprint import pprint"
   ]
  },
  {
   "cell_type": "code",
   "execution_count": 2,
   "metadata": {
    "collapsed": false
   },
   "outputs": [
    {
     "name": "stdout",
     "output_type": "stream",
     "text": [
      "0.987796123475\n"
     ]
    }
   ],
   "source": [
    "filename = 'sms_data'\n",
    "sms_df = pd.read_csv(filename, header=None, sep='\t', names=['class_sms', 'sms'])\n",
    "X = sms_df.sms\n",
    "y = sms_df.class_sms\n",
    "X_train, X_test, y_train, y_test = train_test_split(X, y, random_state=1)\n",
    "vect = CountVectorizer(stop_words='english')\n",
    "X_train_dtm = vect.fit_transform(X_train) \n",
    "X_test_dtm = vect.transform(X_test)\n",
    "\n",
    "nb = MultinomialNB()\n",
    "nb.fit(X_train_dtm, y_train)\n",
    "y_pred_class = nb.predict(X_test_dtm)  \n",
    "# print(y_test.value_counts())  # examine the class distribution of the testing set (using a Pandas Series method)\n",
    "# print(y_test.value_counts().head(1) / len(y_test)) \n",
    "print(metrics.accuracy_score(y_test, y_pred_class)) \n",
    "# print(metrics.confusion_matrix(y_test, y_pred_class))"
   ]
  },
  {
   "cell_type": "code",
   "execution_count": 3,
   "metadata": {
    "collapsed": false
   },
   "outputs": [
    {
     "name": "stdout",
     "output_type": "stream",
     "text": [
      "           ham      spam  token  ham_ratio  spam_ratio\n",
      "3044  0.064971  0.001779     gt  36.513685    0.027387\n",
      "3974  0.064142  0.001779     lt  36.047553    0.027741\n",
      "2015  0.032900  0.001779     da  18.489909    0.054084\n",
      "3932  0.032900  0.001779    lor  18.489909    0.054084\n",
      "3762  0.030688  0.001779  later  17.246890    0.057981\n",
      "1794  0.048936  0.003559   come  13.750899    0.072723\n",
      "1032  0.019630  0.001779    ask  11.031794    0.090647\n",
      "6891  0.019630  0.001779    way  11.031794    0.090647\n",
      "2259  0.019077  0.001779  doing  10.721040    0.093275\n",
      "7149  0.017694  0.001779   yeah   9.944153    0.100562\n",
      "           ham      spam       token  ham_ratio  spam_ratio\n",
      "1718  0.000276  0.158363       claim   0.001746  572.798932\n",
      "5043  0.000276  0.135231       prize   0.002044  489.131673\n",
      "293   0.000276  0.087189        150p   0.003171  315.361210\n",
      "6470  0.000276  0.085409        tone   0.003237  308.925267\n",
      "3048  0.000276  0.076512  guaranteed   0.003613  276.745552\n",
      "307   0.000276  0.069395          18   0.003984  251.001779\n",
      "1971  0.000276  0.065836          cs   0.004199  238.129893\n",
      "7110  0.000553  0.129893         www   0.004257  234.911922\n",
      "246   0.000276  0.056940        1000   0.004856  205.950178\n",
      "1101  0.000276  0.053381     awarded   0.005179  193.078292\n"
     ]
    }
   ],
   "source": [
    "X_train_tokens = vect.get_feature_names()\n",
    "ham_token_count = nb.feature_count_[0, :]\n",
    "spam_token_count = nb.feature_count_[1, :]\n",
    "tokens = pd.DataFrame({'token': X_train_tokens, 'ham': ham_token_count, 'spam': spam_token_count})\n",
    "tokens['ham'] = tokens.ham + 1\n",
    "tokens['spam'] = tokens.spam + 1\n",
    "tokens['ham'] = tokens.ham / nb.class_count_[0]\n",
    "tokens['spam'] = tokens.spam / nb.class_count_[1]\n",
    "tokens['ham_ratio'] = tokens.ham / tokens.spam\n",
    "tokens['spam_ratio'] = tokens.spam / tokens.ham\n",
    "print(tokens.sort_values('ham_ratio', ascending=False).head(10))  # top 10 tokens predictive for 5-star\n",
    "print(tokens.sort_values('spam_ratio', ascending=False).head(10))  # top 10 tokens predictive for 5-star\n",
    "# print(tokens.sort_values('one_star_ratio', ascending=False).head(10))  # top 10 tokens predictive for 1-star"
   ]
  },
  {
   "cell_type": "code",
   "execution_count": 5,
   "metadata": {
    "collapsed": false
   },
   "outputs": [
    {
     "name": "stdout",
     "output_type": "stream",
     "text": [
      "['150p',\n",
      " 'claim',\n",
      " 'guaranteed',\n",
      " 'prize',\n",
      " 'have won',\n",
      " '18',\n",
      " 'your mobile',\n",
      " 'co uk',\n",
      " 'tone',\n",
      " 'to claim']\n",
      "['i ll', 'lt gt', 'he', 'lt', 'gt', 'ü', 'she', 'lor', 'da', 'later']\n"
     ]
    }
   ],
   "source": [
    "nlp = st.WhitespaceNLP.whitespace_nlp\n",
    "corpus = st.CorpusFromPandas(sms_df, \n",
    "                              category_col='class_sms', \n",
    "                              text_col='sms',\n",
    "                              nlp=nlp).build()\n",
    "term_freq_df = corpus.get_term_freq_df()\n",
    "term_freq_df['spam'] = corpus.get_scaled_f_scores('spam')\n",
    "pprint(list(term_freq_df.sort_values(by='spam', ascending=False).index[:10])) # words most associated with spam\n",
    "term_freq_df['ham'] = corpus.get_scaled_f_scores('ham')\n",
    "pprint(list(term_freq_df.sort_values(by='ham', ascending=False).index[:10]))  # words most associated with ham"
   ]
  },
  {
   "cell_type": "code",
   "execution_count": 6,
   "metadata": {
    "collapsed": false
   },
   "outputs": [
    {
     "data": {
      "text/plain": [
       "1687602"
      ]
     },
     "execution_count": 6,
     "metadata": {},
     "output_type": "execute_result"
    }
   ],
   "source": [
    "html = st.produce_scattertext_explorer(corpus,\n",
    "          category='spam',\n",
    "          category_name='spam',\n",
    "          not_category_name='ham',\n",
    "          width_in_pixels=1000,\n",
    "          metadata=sms_df['sms'])\n",
    "open(\"Convention-Visualization.html\", 'wb').write(html.encode('utf-8'))"
   ]
  },
  {
   "cell_type": "code",
   "execution_count": null,
   "metadata": {
    "collapsed": true
   },
   "outputs": [],
   "source": []
  }
 ],
 "metadata": {
  "anaconda-cloud": {},
  "kernelspec": {
   "display_name": "Python [default]",
   "language": "python",
   "name": "python3"
  },
  "language_info": {
   "codemirror_mode": {
    "name": "ipython",
    "version": 3
   },
   "file_extension": ".py",
   "mimetype": "text/x-python",
   "name": "python",
   "nbconvert_exporter": "python",
   "pygments_lexer": "ipython3",
   "version": "3.5.2"
  }
 },
 "nbformat": 4,
 "nbformat_minor": 2
}

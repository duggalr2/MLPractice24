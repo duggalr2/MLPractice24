{
 "cells": [
  {
   "cell_type": "code",
   "execution_count": 1,
   "metadata": {
    "collapsed": false
   },
   "outputs": [
    {
     "ename": "SyntaxError",
     "evalue": "invalid syntax (babelfy.py, line 100)",
     "output_type": "error",
     "traceback": [
      "\u001b[0;36m  File \u001b[0;32m\"/Users/Rahul/anaconda/lib/python3.5/site-packages/pybabelfy/babelfy.py\"\u001b[0;36m, line \u001b[0;32m100\u001b[0m\n\u001b[0;31m    print self.babel_synset_id()\u001b[0m\n\u001b[0m             ^\u001b[0m\n\u001b[0;31mSyntaxError\u001b[0m\u001b[0;31m:\u001b[0m invalid syntax\n"
     ]
    }
   ],
   "source": [
    "import pandas as pd\n",
    "from nltk.corpus import stopwords\n",
    "from sklearn.feature_extraction.text import CountVectorizer\n",
    "from sklearn.metrics import classification_report\n",
    "from sklearn import metrics\n",
    "from sklearn.model_selection import train_test_split\n",
    "from sklearn.naive_bayes import MultinomialNB, GaussianNB\n",
    "from wordcloud import WordCloud\n",
    "import matplotlib as mpl\n",
    "import matplotlib.pyplot as plt\n",
    "import enchant\n",
    "from nltk.stem.snowball import SnowballStemmer\n",
    "from pybabelfy.babelfy import *"
   ]
  },
  {
   "cell_type": "code",
   "execution_count": null,
   "metadata": {
    "collapsed": false,
    "scrolled": false
   },
   "outputs": [],
   "source": [
    "filename_list = ['eminem.csv', 'katyperry.csv', 'lmfao.csv', 'psy.csv', 'shakira.csv']\n",
    "youtube_df = pd.DataFrame(columns=['COMMENT_ID','AUTHOR','DATE','CONTENT','CLASS'])\n",
    "for name in filename_list:\n",
    "    df = pd.read_csv(name, header=None, sep=',', names=['COMMENT_ID','AUTHOR','DATE','CONTENT','CLASS'])\n",
    "    youtube_df = youtube_df.append(df[1:], ignore_index=True)\n",
    "\n",
    "X = youtube_df.CONTENT[1:] # not including the headers..\n",
    "y = youtube_df.CLASS[1:]\n",
    "\n",
    "X_train, X_test, y_train, y_test = train_test_split(X, y, random_state=1)\n",
    "vect = CountVectorizer()\n",
    "X_train_dtm = vect.fit_transform(X_train) \n",
    "X_test_dtm = vect.transform(X_test)\n",
    "\n",
    "nb = MultinomialNB()\n",
    "nb.fit(X_train_dtm, y_train)\n",
    "y_pred_class = nb.predict(X_test_dtm)  \n",
    "\n",
    "print('General Accuracy:', metrics.accuracy_score(y_test, y_pred_class))\n",
    "confusion_matrix = metrics.confusion_matrix(y_test, y_pred_class)\n",
    "print(confusion_matrix)\n",
    "\n",
    "# false_positive = X_test[(y_test == 1) & (y_pred_class == 0)]\n",
    "# false_negative = X_test[(y_test == 0) & (y_pred_class == 1)]\n",
    "# print(false_positive)\n",
    "\n",
    "spam_token_count = nb.feature_count_[1, :] \n",
    "X_train_tokens = vect.get_feature_names()\n",
    "tokens = pd.DataFrame({'token':X_train_tokens, 'spam':spam_token_count})\n",
    "tokens['spam'] = tokens.spam + 1\n",
    "tokens['spam'] = tokens.spam / nb.class_count_[1]\n",
    "# print(tokens.sort_values('spam', ascending=False))\n",
    "\n",
    "    "
   ]
  },
  {
   "cell_type": "code",
   "execution_count": null,
   "metadata": {
    "collapsed": false
   },
   "outputs": [],
   "source": [
    "spam_token_count = nb.feature_count_[1, :] \n",
    "X_train_tokens = vect.get_feature_names()\n",
    "tokens = pd.DataFrame({'token':X_train_tokens, 'spam':spam_token_count})\n",
    "tokens['spam'] = tokens.spam + 1\n",
    "tokens['spam'] = tokens.spam / nb.class_count_[1]\n",
    "\n",
    "spam_words = tokens.sort_values('spam', ascending=False)\n",
    "spam_words = list(spam_words.token)[:70]\n",
    "spam_wordcloud = WordCloud(width=600, height=400).generate(' '.join(spam_words))\n",
    "plt.figure( figsize=(10,8), facecolor='k')\n",
    "plt.imshow(spam_wordcloud)\n",
    "plt.axis(\"off\")\n",
    "plt.tight_layout(pad=0)\n",
    "plt.show()"
   ]
  },
  {
   "cell_type": "code",
   "execution_count": null,
   "metadata": {
    "collapsed": false
   },
   "outputs": [],
   "source": [
    "filename_list = ['eminem.csv', 'katyperry.csv', 'lmfao.csv', 'psy.csv', 'shakira.csv']\n",
    "youtube_df = pd.DataFrame(columns=['COMMENT_ID','AUTHOR','DATE','CONTENT','CLASS'])\n",
    "for name in filename_list:\n",
    "    df = pd.read_csv(name, header=None, sep=',', names=['COMMENT_ID','AUTHOR','DATE','CONTENT','CLASS'])\n",
    "    df['CONTENT'] = df['CONTENT'].str.replace(r'\\d+', '')\n",
    "#     df['CONTENT'] = df['CONTENT'].str.replace(r'\\W*\\b\\w{1,2}\\b', '')\n",
    "    df['CONTENT'] = df['CONTENT'].apply(lambda x: x.split())\n",
    "    df['CONTENT'] = df['CONTENT'].apply(lambda x: ','.join(x))        \n",
    "    youtube_df = youtube_df.append(df[1:], ignore_index=True)\n",
    "\n",
    "# youtube_df['length'] = youtube_df['CONTENT'].apply(len)\n",
    "# mpl.rcParams['patch.force_edgecolor'] = True\n",
    "# plt.style.use('seaborn-bright')\n",
    "# youtube_df.hist(column='length', by='CLASS', bins=50,figsize=(11,5))\n",
    "# plt.show()\n",
    "\n",
    "X = youtube_df.CONTENT[1:] # not including the headers..\n",
    "y = youtube_df.CLASS[1:]\n",
    "\n",
    "X_train, X_test, y_train, y_test = train_test_split(X, y, random_state=1)\n",
    "stopword = stopwords.words('english')\n",
    "# The list of stop words is: {a, an, are, as, at, be, by, for, from, had, \n",
    "#                             has, have, he, how, i, in, is, it, of, on, or, she, that, \n",
    "#                             the, they, this, to, too, was, we, were, what, when, where, who, whose, will, with, you}\n",
    "stopword.append('You')\n",
    "stopword.append('I')\n",
    "vect = CountVectorizer(token_pattern=u'(?u)\\\\b\\\\w+\\\\b', lowercase=True, stop_words=stopword, ngram_range=(1,2))\n",
    "X_train_dtm = vect.fit_transform(X_train) \n",
    "X_test_dtm = vect.transform(X_test)\n",
    "\n",
    "nb = MultinomialNB()\n",
    "nb.fit(X_train_dtm, y_train)\n",
    "y_pred_class = nb.predict(X_test_dtm)  \n",
    "\n",
    "print('General Accuracy:', metrics.accuracy_score(y_test, y_pred_class))\n",
    "confusion_matrix = metrics.confusion_matrix(y_test, y_pred_class)\n",
    "print(confusion_matrix)\n",
    "false_positive_rate = confusion_matrix[1][0] / (confusion_matrix[1][0] + confusion_matrix[1][1])\n",
    "false_negative_rate = confusion_matrix[0][1] / (confusion_matrix[0][0] + confusion_matrix[0][1])\n",
    "print('False Positive Rate:', false_positive_rate*100)\n",
    "print('False Negative Rate:', false_negative_rate*100)\n",
    "\n",
    "spam_token_count = nb.feature_count_[1, :] \n",
    "X_train_tokens = vect.get_feature_names()\n",
    "tokens = pd.DataFrame({'token':X_train_tokens, 'spam':spam_token_count})\n",
    "tokens['spam'] = tokens.spam + 1\n",
    "tokens['spam'] = tokens.spam / nb.class_count_[1]\n",
    "# print(tokens.sort_values('spam', ascending=False))\n",
    "\n",
    "false_positive = X_test[(y_test == '1') & (y_pred_class == '0')]\n",
    "false_negative = X_test[(y_test == '0') & (y_pred_class == '1')]\n",
    "# print(false_positive)\n",
    "\n"
   ]
  },
  {
   "cell_type": "code",
   "execution_count": null,
   "metadata": {
    "collapsed": true
   },
   "outputs": [],
   "source": [
    "# Text Expansion Method: \n",
    "    # Text Normalization\n",
    "    # Concept Generation\n",
    "    # Word Sense Disambiguation \n",
    "    # Merging Rule"
   ]
  },
  {
   "cell_type": "code",
   "execution_count": 3,
   "metadata": {
    "collapsed": false,
    "scrolled": false
   },
   "outputs": [
    {
     "name": "stderr",
     "output_type": "stream",
     "text": [
      "/Users/Rahul/anaconda/lib/python3.5/site-packages/ipykernel/__main__.py:21: ParserWarning: Falling back to the 'python' engine because the 'c' engine does not support regex separators (separators > 1 char and different from '\\s+' are interpreted as regex); you can avoid this warning by specifying engine='python'.\n"
     ]
    }
   ],
   "source": [
    "filename_list = ['eminem.csv', 'katyperry.csv', 'lmfao.csv', 'psy.csv', 'shakira.csv']\n",
    "youtube_df = pd.DataFrame(columns=['COMMENT_ID','AUTHOR','DATE','CONTENT','CLASS'])\n",
    "for name in filename_list:\n",
    "    df = pd.read_csv(name, header=None, sep=',', names=['COMMENT_ID','AUTHOR','DATE','CONTENT','CLASS'])\n",
    "    df['CONTENT'] = df['CONTENT'].str.replace(r'\\d+', '')\n",
    "    df['CONTENT'] = df['CONTENT'].str.replace(r'\\W*\\b\\w{1,2}\\b', '')\n",
    "    df['CONTENT'] = df['CONTENT'].str.replace('\\ufeff', '')\n",
    "    df['CONTENT'] = df['CONTENT'].str.replace('(', '')\n",
    "    df['CONTENT'] = df['CONTENT'].str.replace(':', '')\n",
    "    df['CONTENT'] = df['CONTENT'].str.replace(')', '')\n",
    "    df['CONTENT'] = df['CONTENT'].str.replace('/>', '')\n",
    "    df['CONTENT'] = df['CONTENT'].apply(lambda x: x.split())\n",
    "#     df['CONTENT'] = df['CONTENT'].apply(lambda x: ','.join(x))        \n",
    "    youtube_df = youtube_df.append(df[1:], ignore_index=True)\n",
    "\n",
    "X = youtube_df.CONTENT[1:] # not including the headers..\n",
    "y = youtube_df.CLASS[1:]\n",
    "d = enchant.Dict('en_US')\n",
    "stemmer = SnowballStemmer(\"english\")\n",
    "\n",
    "slang_df = pd.read_csv('word', sep='=>', names=['english_word', 'slang_word'])    \n",
    "slang_words = slang_df['slang_word']\n",
    "\n",
    "for row in X: \n",
    "    new_row = []\n",
    "    for word  in row:\n",
    "        if d.check(word) is True:\n",
    "            stem_word = stemmer.stem(word)\n",
    "            new_row.append(stem_word)\n",
    "        else:\n",
    "            if word in slang_words:\n",
    "                index = slang_df.index.get_loc(word)\n",
    "                english_word = slang_df['english_word'][index]\n",
    "                stem_word = stemmer.stem(word)\n",
    "                new_row.append(stem_word)\n",
    "            else:\n",
    "                new_row.append(word)\n",
    "#     print(new_row)\n",
    "\n",
    "# text= \"BabelNet is both a multilingual encyclopedic dictionary and a semantic network\"\n",
    "# lang = \"EN\"\n",
    "# key = \"cd55aa53-81e9-46c6-852a-394c8ce4fc6c\" #This only works for the demo example. Change it for your RESTful key (you must register at babelfy.org for it)\n",
    "# babelapi = Babelfy()\n",
    "# semantic_annotations = babelapi.disambiguate(text,lang,key)    \n",
    "# print(semantic_annotations)\n",
    "# print('s')"
   ]
  },
  {
   "cell_type": "code",
   "execution_count": null,
   "metadata": {
    "collapsed": true
   },
   "outputs": [],
   "source": []
  }
 ],
 "metadata": {
  "anaconda-cloud": {},
  "kernelspec": {
   "display_name": "Python [default]",
   "language": "python",
   "name": "python3"
  },
  "language_info": {
   "codemirror_mode": {
    "name": "ipython",
    "version": 3
   },
   "file_extension": ".py",
   "mimetype": "text/x-python",
   "name": "python",
   "nbconvert_exporter": "python",
   "pygments_lexer": "ipython3",
   "version": "3.5.2"
  }
 },
 "nbformat": 4,
 "nbformat_minor": 2
}
